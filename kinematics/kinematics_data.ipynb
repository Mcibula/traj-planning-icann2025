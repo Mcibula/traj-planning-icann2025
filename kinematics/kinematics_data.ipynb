{
 "cells": [
  {
   "cell_type": "code",
   "id": "initial_id",
   "metadata": {
    "editable": true,
    "slideshow": {
     "slide_type": ""
    },
    "tags": [],
    "ExecuteTime": {
     "end_time": "2025-03-30T15:29:34.149863Z",
     "start_time": "2025-03-30T15:29:33.910169Z"
    }
   },
   "source": [
    "import glob\n",
    "import pickle\n",
    "\n",
    "kuka_raw = []\n",
    "\n",
    "for path in glob.glob('../data/block-stack/kuka_expert_12k_n10_v2_f10/*.pkl'):\n",
    "    with open(path, 'rb') as f:\n",
    "        kuka_raw.append(pickle.load(f))"
   ],
   "outputs": [],
   "execution_count": 2
  },
  {
   "cell_type": "code",
   "id": "87ec23531d06c140",
   "metadata": {
    "collapsed": false,
    "editable": true,
    "slideshow": {
     "slide_type": ""
    },
    "tags": [],
    "ExecuteTime": {
     "end_time": "2025-03-30T15:29:49.245066Z",
     "start_time": "2025-03-30T15:29:49.157980Z"
    }
   },
   "source": [
    "import matplotlib.pyplot as plt\n",
    "\n",
    "it_counts = [\n",
    "    len(ep)\n",
    "    for part in kuka_raw\n",
    "    for ep in part\n",
    "]\n",
    "\n",
    "plt.hist(it_counts, bins='auto')\n",
    "plt.xlabel('Number of observations')\n",
    "plt.ylabel('Number of episodes')\n",
    "plt.show()"
   ],
   "outputs": [
    {
     "data": {
      "text/plain": [
       "<Figure size 640x480 with 1 Axes>"
      ],
      "image/png": "[encoded data removed]"
     },
     "metadata": {},
     "output_type": "display_data"
    }
   ],
   "execution_count": 3
  },
  {
   "metadata": {
    "ExecuteTime": {
     "end_time": "2025-03-30T16:25:33.102120Z",
     "start_time": "2025-03-30T16:25:33.100348Z"
    }
   },
   "cell_type": "code",
   "source": [
    "import numpy as np\n",
    "\n",
    "def reduce_state(state: np.ndarray) -> tuple[np.ndarray, np.ndarray]:\n",
    "    (\n",
    "        *_,\n",
    "        joints, eff_xyz,\n",
    "        _, _\n",
    "    ) = np.split(state, [3, 7, 10, 14, 21, 24, 28])\n",
    "\n",
    "    return joints, eff_xyz"
   ],
   "id": "d23303b379890af0",
   "outputs": [],
   "execution_count": 8
  },
  {
   "cell_type": "code",
   "id": "2583984338f3a282",
   "metadata": {
    "collapsed": false,
    "ExecuteTime": {
     "end_time": "2025-03-30T16:25:37.614994Z",
     "start_time": "2025-03-30T16:25:35.657948Z"
    }
   },
   "source": [
    "import numpy as np\n",
    "from tqdm import tqdm\n",
    "\n",
    "n_joints = 7\n",
    "\n",
    "fwd_data = []\n",
    "inv_data = []\n",
    "\n",
    "eff_changes = []\n",
    "\n",
    "raw_data = kuka_raw\n",
    "\n",
    "for idx, data in enumerate(raw_data):\n",
    "    for ep in tqdm(data, desc=f'Dataset {idx + 1}/{len(raw_data)}'):\n",
    "        joints_0, eff_xyz_0 = reduce_state(ep[0])\n",
    "\n",
    "        assert len(joints_0) == n_joints\n",
    "        assert len(eff_xyz_0) == 3\n",
    "\n",
    "        for s in ep[1:]:\n",
    "            joints_1, eff_xyz_1 = reduce_state(s)\n",
    "\n",
    "            a = joints_1 - joints_0\n",
    "            eff_changes.append(eff_xyz_1 - eff_xyz_0)\n",
    "\n",
    "            s0 = np.concatenate([joints_0, eff_xyz_0])\n",
    "            s1 = np.concatenate([joints_1, eff_xyz_1])\n",
    "\n",
    "            fwd_data.append((np.concatenate((s0, a)), s1))\n",
    "            inv_data.append((np.concatenate((s0, s1)), a))\n",
    "\n",
    "            joints_0 = joints_1\n",
    "            eff_xyz_0 = eff_xyz_1"
   ],
   "outputs": [
    {
     "name": "stderr",
     "output_type": "stream",
     "text": [
      "Dataset 1/6: 100%|██████████| 2000/2000 [00:00<00:00, 6524.13it/s]\n",
      "Dataset 2/6: 100%|██████████| 2000/2000 [00:00<00:00, 7264.55it/s]\n",
      "Dataset 3/6: 100%|██████████| 2000/2000 [00:00<00:00, 7147.25it/s]\n",
      "Dataset 4/6: 100%|██████████| 2000/2000 [00:00<00:00, 6871.37it/s]\n",
      "Dataset 5/6: 100%|██████████| 2000/2000 [00:00<00:00, 6824.96it/s]\n",
      "Dataset 6/6: 100%|██████████| 2000/2000 [00:00<00:00, 6911.73it/s]\n"
     ]
    }
   ],
   "execution_count": 9
  },
  {
   "cell_type": "code",
   "id": "94a11a12f4b56969",
   "metadata": {
    "collapsed": false,
    "ExecuteTime": {
     "end_time": "2025-03-30T16:25:38.944316Z",
     "start_time": "2025-03-30T16:25:38.619957Z"
    }
   },
   "source": [
    "X_fwd, y_fwd = map(np.asarray, zip(*fwd_data))\n",
    "X_inv, y_inv = map(np.asarray, zip(*inv_data))"
   ],
   "outputs": [],
   "execution_count": 10
  },
  {
   "cell_type": "code",
   "source": [
    "import h5py\n",
    "\n",
    "with h5py.File('../data/kinematics/kuka_expert_causal_12k_n10_v2_f10.h5', 'w') as hf:\n",
    "    hf.create_dataset('kuka_kinematics_fwd', data=np.hstack((X_fwd, y_fwd)))\n",
    "    hf.create_dataset('kuka_kinematics_inv', data=np.hstack((X_inv, y_inv)))"
   ],
   "metadata": {
    "collapsed": false,
    "ExecuteTime": {
     "end_time": "2025-03-30T16:25:40.725595Z",
     "start_time": "2025-03-30T16:25:40.632381Z"
    }
   },
   "id": "e4b4f53d592d3bc8",
   "outputs": [],
   "execution_count": 11
  },
  {
   "metadata": {
    "ExecuteTime": {
     "end_time": "2025-03-30T16:35:09.406231Z",
     "start_time": "2025-03-30T16:35:08.049568Z"
    }
   },
   "cell_type": "code",
   "source": [
    "import numpy as np\n",
    "from tqdm import tqdm\n",
    "\n",
    "raw_data = kuka_raw\n",
    "train_data = []\n",
    "\n",
    "for idx, data in enumerate(raw_data):\n",
    "    for ep in tqdm(data, desc=f'Dataset {idx + 1}/{len(raw_data)}'):\n",
    "        s0_joints, s0_eff = reduce_state(ep[0])\n",
    "\n",
    "        start = np.concatenate([s0_joints, s0_eff])\n",
    "        end = np.concatenate(reduce_state(ep[-1]))\n",
    "\n",
    "        x = (start, end)\n",
    "        traj = []\n",
    "        \n",
    "        s0 = start\n",
    "        joints_0 = s0_joints\n",
    "        \n",
    "        traj.append(s0)\n",
    "\n",
    "        for s in ep[1:]:\n",
    "            joints_1, s_eff = reduce_state(s)\n",
    "            s = np.concatenate([joints_1, s_eff])\n",
    "\n",
    "            a = joints_1 - joints_0\n",
    "            traj.append(a)\n",
    "            traj.append(s)\n",
    "            \n",
    "            s0 = s\n",
    "            joints_0 = joints_1\n",
    "            \n",
    "        train_data.append((x, traj))"
   ],
   "id": "802c5a0ccc03ab35",
   "outputs": [
    {
     "name": "stderr",
     "output_type": "stream",
     "text": [
      "Dataset 1/6: 100%|██████████| 2000/2000 [00:00<00:00, 8609.51it/s]\n",
      "Dataset 2/6: 100%|██████████| 2000/2000 [00:00<00:00, 8566.07it/s]\n",
      "Dataset 3/6: 100%|██████████| 2000/2000 [00:00<00:00, 8727.60it/s]\n",
      "Dataset 4/6: 100%|██████████| 2000/2000 [00:00<00:00, 9177.96it/s]\n",
      "Dataset 5/6: 100%|██████████| 2000/2000 [00:00<00:00, 9186.54it/s]\n",
      "Dataset 6/6: 100%|██████████| 2000/2000 [00:00<00:00, 9137.25it/s]\n"
     ]
    }
   ],
   "execution_count": 12
  },
  {
   "metadata": {
    "ExecuteTime": {
     "end_time": "2025-03-30T16:36:02.140904Z",
     "start_time": "2025-03-30T16:36:01.627822Z"
    }
   },
   "cell_type": "code",
   "source": [
    "X = []\n",
    "y_s = []\n",
    "y_a = []\n",
    "\n",
    "for endpoints, traj in tqdm(train_data):\n",
    "    endpoints = np.concatenate(endpoints)\n",
    "    \n",
    "    a_traj = []\n",
    "    s_traj = []\n",
    "    \n",
    "    for i, x in enumerate(traj):\n",
    "        if i % 2 == 0:\n",
    "            s_traj.append(x)\n",
    "        else:\n",
    "            a_traj.append(x)\n",
    "    \n",
    "    s_arr = np.vstack(s_traj)\n",
    "    a_arr = np.vstack(a_traj)\n",
    "    \n",
    "    s_arr = np.pad(s_arr, ((0, 40 - s_arr.shape[0]), (0, 0)), 'edge')\n",
    "    a_arr = np.pad(a_arr, ((0, 40 - a_arr.shape[0]), (0, 0)), 'constant')\n",
    "    \n",
    "    y_s.append(s_arr)\n",
    "    y_a.append(a_arr)\n",
    "    X.append(endpoints)"
   ],
   "id": "1a85e0d28fd0f7ab",
   "outputs": [
    {
     "name": "stderr",
     "output_type": "stream",
     "text": [
      "100%|██████████| 12000/12000 [00:00<00:00, 23540.51it/s]\n"
     ]
    }
   ],
   "execution_count": 13
  },
  {
   "metadata": {
    "ExecuteTime": {
     "end_time": "2025-03-30T16:36:10.401726Z",
     "start_time": "2025-03-30T16:36:10.376710Z"
    }
   },
   "cell_type": "code",
   "source": [
    "X = np.array(X)\n",
    "y_s = np.array(y_s)\n",
    "y_a = np.array(y_a)"
   ],
   "id": "19e63c6a50cd17c1",
   "outputs": [],
   "execution_count": 14
  },
  {
   "metadata": {
    "ExecuteTime": {
     "end_time": "2025-03-30T16:36:51.584309Z",
     "start_time": "2025-03-30T16:36:51.554382Z"
    }
   },
   "cell_type": "code",
   "source": [
    "import h5py\n",
    "\n",
    "with h5py.File('../data/kinematics/kuka_expert_traj_12k_n10_v2_f10_edge-pad.h5', 'w') as hf:\n",
    "    hf.create_dataset('kuka_kinematics_endpoints', data=X)\n",
    "    hf.create_dataset('kuka_kinematics_trajS', data=y_s)\n",
    "    hf.create_dataset('kuka_kinematics_trajA', data=y_a)"
   ],
   "id": "c9167278d45b739",
   "outputs": [],
   "execution_count": 15
  }
 ],
 "metadata": {
  "kernelspec": {
   "display_name": "Python 3 (ipykernel)",
   "language": "python",
   "name": "python3"
  },
  "language_info": {
   "codemirror_mode": {
    "name": "ipython",
    "version": 3
   },
   "file_extension": ".py",
   "mimetype": "text/x-python",
   "name": "python",
   "nbconvert_exporter": "python",
   "pygments_lexer": "ipython3",
   "version": "3.10.13"
  }
 },
 "nbformat": 4,
 "nbformat_minor": 5
}
